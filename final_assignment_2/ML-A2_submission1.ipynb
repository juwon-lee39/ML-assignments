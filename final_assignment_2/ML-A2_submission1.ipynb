{
 "cells": [
  {
   "cell_type": "markdown",
   "metadata": {},
   "source": [
    "## Assignment 2- Submission 1"
   ]
  },
  {
   "cell_type": "code",
   "execution_count": 1,
   "metadata": {},
   "outputs": [],
   "source": [
    "import numpy as np\n",
    "import pandas as pd\n",
    "import matplotlib.pyplot as plt\n",
    "import pickle\n",
    "import warnings\n",
    "\n",
    "# from skimage import data, feature\n",
    "\n",
    "warnings.filterwarnings(\"ignore\", message=\"numpy.ufunc size changed\")\n",
    "from skimage import io, color, transform, feature, exposure\n",
    "from my_measures import BinaryClassificationPerformance  \n",
    "from sklearn.model_selection import train_test_split\n",
    "%matplotlib inline"
   ]
  },
  {
   "cell_type": "markdown",
   "metadata": {},
   "source": [
    "### IMPORTANT!!! Make sure you are using BinaryClassificationPerformance v1.03\n"
   ]
  },
  {
   "cell_type": "code",
   "execution_count": 2,
   "metadata": {},
   "outputs": [
    {
     "name": "stdout",
     "output_type": "stream",
     "text": [
      "Help on class BinaryClassificationPerformance in module my_measures:\n",
      "\n",
      "class BinaryClassificationPerformance(builtins.object)\n",
      " |  BinaryClassificationPerformance(predictions, labels, desc, probabilities=None)\n",
      " |  \n",
      " |  Performance measures to evaluate the fit of a binary classification model, v1.03\n",
      " |  \n",
      " |  Methods defined here:\n",
      " |  \n",
      " |  __init__(self, predictions, labels, desc, probabilities=None)\n",
      " |      Initialize attributes: predictions-vector of predicted values for Y, labels-vector of labels for Y\n",
      " |  \n",
      " |  compute_measures(self)\n",
      " |      Compute performance measures defined by Flach p. 57\n",
      " |  \n",
      " |  img_indices(self)\n",
      " |      Get the indices of true and false positives to be able to locate the corresponding images in a list of image names\n",
      " |  \n",
      " |  ----------------------------------------------------------------------\n",
      " |  Data descriptors defined here:\n",
      " |  \n",
      " |  __dict__\n",
      " |      dictionary for instance variables (if defined)\n",
      " |  \n",
      " |  __weakref__\n",
      " |      list of weak references to the object (if defined)\n",
      "\n"
     ]
    }
   ],
   "source": [
    "help(BinaryClassificationPerformance)"
   ]
  },
  {
   "cell_type": "markdown",
   "metadata": {},
   "source": [
    "### file paths and names"
   ]
  },
  {
   "cell_type": "code",
   "execution_count": 3,
   "metadata": {},
   "outputs": [],
   "source": [
    "ci_path = 'plane_data/cropped_images/' # file path for cropped images for training\n",
    "l_file = 'plane_data/plane_labels.csv' # file path and file name for csv with labels"
   ]
  },
  {
   "cell_type": "markdown",
   "metadata": {},
   "source": [
    "# Function for feature building and extraction on photographs¶\n",
    "\n",
    "scikit-image documentation on methods used for feature extraction:  \n",
    "\n",
    "* http://scikit-image.org/docs/dev/api/skimage.color.html#rgb2gray  \n",
    "* http://scikit-image.org/docs/dev/api/skimage.transform.html#skimage.transform.resize  \n",
    "* http://scikit-image.org/docs/stable/api/skimage.feature.html#skimage.feature.canny"
   ]
  },
  {
   "cell_type": "code",
   "execution_count": null,
   "metadata": {},
   "outputs": [],
   "source": [
    "# in downscaling the image, what do you want the new dimensions to be?\n",
    "# the original dimensions of cropped images: (60, 140), which if 8,400 pixels\n",
    "# dims = (15, 35) # 25% of the original size, 525 pixels"
   ]
  },
  {
   "cell_type": "markdown",
   "metadata": {},
   "source": [
    "Using corner moravec as it performed the best so far based on our canvas discussion iterations.\n",
    "\n",
    "Corner moravec = one of the simplest corner detectors and is comparatively fast but has several limitations (e.g. not rotation invariant)\n",
    "\n",
    "window_size = 1 performed better than 3"
   ]
  },
  {
   "cell_type": "code",
   "execution_count": 4,
   "metadata": {},
   "outputs": [
    {
     "name": "stdout",
     "output_type": "stream",
     "text": [
      "original image shape: \n",
      "(60, 140)\n",
      "image representation (first row of pixels): \n",
      "[0. 0. 0. 0. 0. 0. 0. 0. 0. 0. 0. 0. 0. 0. 0. 0. 0. 0. 0. 0. 0. 0. 0. 0.\n",
      " 0. 0. 0. 0. 0. 0. 0. 0. 0. 0. 0. 0. 0. 0. 0. 0. 0. 0. 0. 0. 0. 0. 0. 0.\n",
      " 0. 0. 0. 0. 0. 0. 0. 0. 0. 0. 0. 0. 0. 0. 0. 0. 0. 0. 0. 0. 0. 0. 0. 0.\n",
      " 0. 0. 0. 0. 0. 0. 0. 0. 0. 0. 0. 0. 0. 0. 0. 0. 0. 0. 0. 0. 0. 0. 0. 0.\n",
      " 0. 0. 0. 0. 0. 0. 0. 0. 0. 0. 0. 0. 0. 0. 0. 0. 0. 0. 0. 0. 0. 0. 0. 0.\n",
      " 0. 0. 0. 0. 0. 0. 0. 0. 0. 0. 0. 0. 0. 0. 0. 0. 0. 0. 0. 0.]\n",
      "\n",
      "\n",
      "example of transformation: \n"
     ]
    },
    {
     "data": {
      "image/png": "[encoded data removed]",
      "text/plain": [
       "<Figure size 640x480 with 1 Axes>"
      ]
     },
     "metadata": {},
     "output_type": "display_data"
    }
   ],
   "source": [
    "def image_manipulation(imname, imgs_path, imview=False):\n",
    "    warnings.filterwarnings('ignore')\n",
    "    imname = imgs_path + imname + '.png'\n",
    "    img_raw = io.imread(imname, as_gray=True)\n",
    "#     downscaled = transform.resize(image = img_raw, output_shape = (dims[0], dims[1]), anti_aliasing=True, order =5) # downscale image\n",
    "    \n",
    "# adding more manipulations\n",
    "    #rotated = transform.rotate(img_raw, 15, resize=False, center=None, order=None, mode='constant', cval=0, clip=True, preserve_range=False)\n",
    "    hough = transform.hough_line(img_raw, theta=None)\n",
    "    exposed = exposure.adjust_gamma(img_raw, gamma=0.5, gain=1)\n",
    "#     pyramid = transform.pyramid_laplacian(img_raw, max_layer=-1, downscale=2, sigma=None, order=1, mode='symmetric', cval=0, preserve_range=False, channel_axis=None)\n",
    "\n",
    "#corner moravec\n",
    "#     final_image = feature.corner_moravec(downscaled, window_size=1)\n",
    "    final_image = feature.corner_moravec(img_raw, window_size=1)\n",
    "\n",
    "\n",
    "    if imview==True:\n",
    "        io.imshow(final_image)\n",
    "    warnings.filterwarnings('always')\n",
    "    return final_image\n",
    "\n",
    "# test the function, look at input/output\n",
    "test_image = image_manipulation('2017-08-25T23+24+13_390Z', ci_path, True)\n",
    "# test_image = image_manipulation('2016-12-04T14+31+37_880Z', ci_path, True) #different image to test out\n",
    "\n",
    "# print('downscaled image shape: ')\n",
    "print('original image shape: ')\n",
    "print(test_image.shape)\n",
    "print('image representation (first row of pixels): ')\n",
    "print(test_image[0])\n",
    "print('\\n')\n",
    "print('example of transformation: ')"
   ]
  },
  {
   "cell_type": "markdown",
   "metadata": {},
   "source": [
    "for comparison, look at original image:"
   ]
  },
  {
   "cell_type": "code",
   "execution_count": 5,
   "metadata": {},
   "outputs": [
    {
     "name": "stderr",
     "output_type": "stream",
     "text": [
      "/Users/juwonlee/opt/anaconda3/lib/python3.9/site-packages/skimage/io/_plugins/imageio_plugin.py:10: DeprecationWarning: Starting with ImageIO v3 the behavior of this function will switch to that of iio.v3.imread. To keep the current behavior (and make this warning dissapear) use `import imageio.v2 as imageio` or call `imageio.v2.imread` directly.\n",
      "  return np.asarray(imageio_imread(*args, **kwargs))\n"
     ]
    },
    {
     "data": {
      "text/plain": [
       "<matplotlib.image.AxesImage at 0x7fadc1ca2f70>"
      ]
     },
     "execution_count": 5,
     "metadata": {},
     "output_type": "execute_result"
    },
    {
     "data": {
      "image/png": "[encoded data removed]",
      "text/plain": [
       "<Figure size 640x480 with 1 Axes>"
      ]
     },
     "metadata": {},
     "output_type": "display_data"
    }
   ],
   "source": [
    "this_imname = ci_path + '2017-08-25T23+24+13_390Z.png'\n",
    "io.imshow(io.imread(this_imname))"
   ]
  },
  {
   "cell_type": "markdown",
   "metadata": {},
   "source": [
    "# function to process raw images, resulting in training and test datasets"
   ]
  },
  {
   "cell_type": "code",
   "execution_count": 6,
   "metadata": {},
   "outputs": [],
   "source": [
    "# function that takes raw images and completes all preprocessing required before model fits\n",
    "def process_raw_data(labels_fn, images_fp, my_random_seed, imview=False, test=False):\n",
    "    plane_data = pd.read_csv(labels_fn) # read in photograph labels\n",
    "    print(\"First few lines of image labels: \")\n",
    "    print(plane_data.head())\n",
    "    print(\"Size of image label dataFrame: \")\n",
    "    print(plane_data.shape)\n",
    "        \n",
    "    # construct lists for features, labels, and a crosswalk reference to image names\n",
    "    features_list = []\n",
    "    if (not test):\n",
    "        y_list = []\n",
    "    imnames_list = []\n",
    "\n",
    "    for index, row in plane_data.iterrows():\n",
    "        features_list.append(image_manipulation(row['img_name'], images_fp))\n",
    "        if (not test):\n",
    "            y_list.append(row['plane'])\n",
    "        imnames_list.append(row['img_name'])\n",
    "    \n",
    "    # convert the lists to ndarrays\n",
    "    features = np.asarray(features_list)\n",
    "    if (not test):\n",
    "        Y = np.asarray(y_list)\n",
    "    imgs = np.asarray(imnames_list)\n",
    "    print('Shape of original feature representation: ')\n",
    "    print(features.shape)\n",
    "\n",
    "    # flatten the images ndarray to one row per image\n",
    "    features_flat = features.reshape((features.shape[0], -1))\n",
    "\n",
    "    print('Shape of flat feature representation: ')\n",
    "    print(features_flat.shape)\n",
    "\n",
    "    if (not test):\n",
    "        print('Shape of Y: ')\n",
    "        print(Y.shape)\n",
    "\n",
    "        print('Number of images with planes: ')\n",
    "        print(Y.sum())\n",
    "    \n",
    "        # create train and test sets\n",
    "        data_train, data_test, y_train, y_test, imgs_train, imgs_test = train_test_split(features_flat, \n",
    "            Y, imgs, test_size = 0.25, random_state = my_random_seed)\n",
    "\n",
    "        print('Shape of training set: ')\n",
    "        print(y_train.shape)\n",
    "        print('Number of training images that contain an airplane: ')\n",
    "        print(y_train.sum())\n",
    "\n",
    "        print('Shape of test set: ')\n",
    "        print(y_test.shape)\n",
    "        print('Number of test images that contain an airplane: ')\n",
    "        print(y_test.sum())\n",
    "    \n",
    "    if (test):\n",
    "        X_submission_test = features_flat\n",
    "        print(\"Shape of X_test for submission:\")\n",
    "        print(X_submission_test.shape)\n",
    "        print('SUCCESS!')\n",
    "        return(X_submission_test, plane_data)\n",
    "    else: \n",
    "        print(\"Shape of data_train and data_test:\")\n",
    "        print(data_train.shape)\n",
    "        print(data_test.shape)\n",
    "        print(\"Shape of y_train and y_test:\")\n",
    "        print(y_train.shape)\n",
    "        print(y_test.shape)\n",
    "        print(\"Shape of imgs_train and imgs_test:\")\n",
    "        print(imgs_train.shape)\n",
    "        print(imgs_test.shape)\n",
    "        print('SUCCESS!')\n",
    "        return(data_train, data_test, y_train, y_test, imgs_train, imgs_test)\n"
   ]
  },
  {
   "cell_type": "code",
   "execution_count": 7,
   "metadata": {},
   "outputs": [
    {
     "name": "stdout",
     "output_type": "stream",
     "text": [
      "First few lines of image labels: \n",
      "                   img_name  plane\n",
      "0  2016-08-02T13+50+24_430Z  False\n",
      "1  2016-08-02T14+12+37_390Z  False\n",
      "2  2016-08-02T22+20+26_600Z  False\n",
      "3  2016-08-03T12+04+30_670Z  False\n",
      "4  2016-08-03T12+32+21_790Z  False\n",
      "Size of image label dataFrame: \n",
      "(6758, 2)\n",
      "Shape of original feature representation: \n",
      "(6758, 60, 140)\n",
      "Shape of flat feature representation: \n",
      "(6758, 8400)\n",
      "Shape of Y: \n",
      "(6758,)\n",
      "Number of images with planes: \n",
      "101\n",
      "Shape of training set: \n",
      "(5068,)\n",
      "Number of training images that contain an airplane: \n",
      "80\n",
      "Shape of test set: \n",
      "(1690,)\n",
      "Number of test images that contain an airplane: \n",
      "21\n",
      "Shape of data_train and data_test:\n",
      "(5068, 8400)\n",
      "(1690, 8400)\n",
      "Shape of y_train and y_test:\n",
      "(5068,)\n",
      "(1690,)\n",
      "Shape of imgs_train and imgs_test:\n",
      "(5068,)\n",
      "(1690,)\n",
      "SUCCESS!\n"
     ]
    }
   ],
   "source": [
    "data_train, data_test, y_train, y_test, imgs_train, imgs_test = process_raw_data(l_file, ci_path, \n",
    "    my_random_seed=63, imview=False, test=False)"
   ]
  },
  {
   "cell_type": "markdown",
   "metadata": {},
   "source": [
    "# train Perceptron"
   ]
  },
  {
   "cell_type": "code",
   "execution_count": 8,
   "metadata": {},
   "outputs": [
    {
     "name": "stderr",
     "output_type": "stream",
     "text": [
      "/Users/juwonlee/opt/anaconda3/lib/python3.9/site-packages/sklearn/utils/optimize.py:18: DeprecationWarning: Please use `line_search_wolfe2` from the `scipy.optimize` namespace, the `scipy.optimize.linesearch` namespace is deprecated.\n",
      "  from scipy.optimize.linesearch import line_search_wolfe2, line_search_wolfe1\n",
      "/Users/juwonlee/opt/anaconda3/lib/python3.9/site-packages/sklearn/utils/optimize.py:18: DeprecationWarning: Please use `line_search_wolfe1` from the `scipy.optimize` namespace, the `scipy.optimize.linesearch` namespace is deprecated.\n",
      "  from scipy.optimize.linesearch import line_search_wolfe2, line_search_wolfe1\n"
     ]
    },
    {
     "name": "stdout",
     "output_type": "stream",
     "text": [
      "TRAINING SET: \n",
      "{'Pos': 80, 'Neg': 4988, 'TP': 76, 'TN': 4987, 'FP': 1, 'FN': 4, 'Accuracy': 0.9990134175217048, 'Precision': 0.987012987012987, 'Recall': 0.95, 'desc': 'prc', 'set': 'train'}\n",
      "TEST SET: \n",
      "{'Pos': 21, 'Neg': 1669, 'TP': 15, 'TN': 1665, 'FP': 4, 'FN': 6, 'Accuracy': 0.9940828402366864, 'Precision': 0.7894736842105263, 'Recall': 0.7142857142857143, 'desc': 'prc', 'set': 'test'}\n"
     ]
    }
   ],
   "source": [
    "# MODEL: Perceptron\n",
    "from sklearn import linear_model\n",
    "prc = linear_model.SGDClassifier(loss='perceptron')\n",
    "prc.fit(data_train, y_train)\n",
    "\n",
    "prc_performance = BinaryClassificationPerformance(prc.predict(data_train), y_train, 'prc')\n",
    "prc_performance.compute_measures()\n",
    "prc_performance.performance_measures['set'] = 'train'\n",
    "print('TRAINING SET: ')\n",
    "print(prc_performance.performance_measures)\n",
    "\n",
    "prc_performance_test = BinaryClassificationPerformance(prc.predict(data_test), y_test, 'prc')\n",
    "prc_performance_test.compute_measures()\n",
    "prc_performance_test.performance_measures['set'] = 'test'\n",
    "print('TEST SET: ')\n",
    "print(prc_performance_test.performance_measures)\n",
    "\n",
    "prc_performance_test.img_indices()\n",
    "prc_img_indices_to_view = prc_performance_test.image_indices"
   ]
  },
  {
   "cell_type": "code",
   "execution_count": 9,
   "metadata": {},
   "outputs": [],
   "source": [
    "def performance_examples(typ, measures):\n",
    "    iiv = ''\n",
    "    if typ == 'FP':\n",
    "        iiv = typ + '_indices'\n",
    "    elif typ == 'TP':\n",
    "        iiv = typ + '_indices'\n",
    "    elif typ == 'FN':\n",
    "        iiv = typ + '_indices'\n",
    "    else:\n",
    "        raise ValueError('input must be \"TP\", \"FP\", or \"FN\"')\n",
    "    for img in measures[iiv]:\n",
    "        warnings.filterwarnings('ignore')    \n",
    "        plt.figure()\n",
    "        lookat = ci_path + imgs_test[img] + '.png' # location of original image\n",
    "        io.imshow(lookat) # show original image\n",
    "        plt.figure()\n",
    "#         io.imshow(data_test[img].reshape(dims[0], dims[1])) # show manipulation for feature representation\n",
    "#         io.imshow(data_test[img])\n",
    "        warnings.filterwarnings('always')\n"
   ]
  },
  {
   "cell_type": "markdown",
   "metadata": {},
   "source": [
    "# look at examples of Perceptron classifications"
   ]
  },
  {
   "cell_type": "markdown",
   "metadata": {},
   "source": [
    "## true positives"
   ]
  },
  {
   "cell_type": "code",
   "execution_count": null,
   "metadata": {},
   "outputs": [],
   "source": [
    "performance_examples('TP', prc_img_indices_to_view)"
   ]
  },
  {
   "cell_type": "markdown",
   "metadata": {},
   "source": [
    "## false positives"
   ]
  },
  {
   "cell_type": "code",
   "execution_count": null,
   "metadata": {},
   "outputs": [],
   "source": [
    "performance_examples('FP', prc_img_indices_to_view)"
   ]
  },
  {
   "cell_type": "markdown",
   "metadata": {},
   "source": [
    "## false negatives"
   ]
  },
  {
   "cell_type": "code",
   "execution_count": null,
   "metadata": {},
   "outputs": [],
   "source": [
    "performance_examples('FN', prc_img_indices_to_view)"
   ]
  },
  {
   "cell_type": "markdown",
   "metadata": {},
   "source": [
    "# train Multilayer Perceptron, a.k.a. neural network"
   ]
  },
  {
   "cell_type": "markdown",
   "metadata": {},
   "source": [
    "Choosing the hidden layer sizes that performed the best from our canvas discussion"
   ]
  },
  {
   "cell_type": "code",
   "execution_count": 10,
   "metadata": {},
   "outputs": [
    {
     "name": "stdout",
     "output_type": "stream",
     "text": [
      "MLPClassifier(hidden_layer_sizes=(20, 100, 100, 75), max_iter=1000)\n",
      "TRAINING SET: 20,100,100,75\n",
      "{'Pos': 80, 'Neg': 4988, 'TP': 80, 'TN': 4988, 'FP': 0, 'FN': 0, 'Accuracy': 1.0, 'Precision': 1.0, 'Recall': 1.0, 'desc': 'nn', 'set': 'train'}\n",
      "TEST SET: 20,100,100,75\n",
      "{'Pos': 21, 'Neg': 1669, 'TP': 17, 'TN': 1669, 'FP': 0, 'FN': 4, 'Accuracy': 0.9976331360946745, 'Precision': 1.0, 'Recall': 0.8095238095238095, 'desc': 'nn_test', 'set': 'test'}\n"
     ]
    }
   ],
   "source": [
    "# MODEL: Multi-layer Perceptron aka neural network\n",
    "\n",
    "from sklearn import neural_network\n",
    "nn = neural_network.MLPClassifier(hidden_layer_sizes = (20,100,100,75), max_iter=1000)\n",
    "print(nn)\n",
    "nn.fit(data_train, y_train)\n",
    "\n",
    "nn_performance = BinaryClassificationPerformance(nn.predict(data_train), y_train, 'nn')\n",
    "nn_performance.compute_measures()\n",
    "nn_performance.performance_measures['set'] = 'train'\n",
    "print('TRAINING SET: 20,100,100,75')\n",
    "print(nn_performance.performance_measures)\n",
    "\n",
    "nn_performance_test = BinaryClassificationPerformance(nn.predict(data_test), y_test, 'nn_test')\n",
    "nn_performance_test.compute_measures()\n",
    "nn_performance_test.performance_measures['set'] = 'test'\n",
    "print('TEST SET: 20,100,100,75')\n",
    "print(nn_performance_test.performance_measures)\n",
    "\n",
    "nn_performance_test.img_indices()\n",
    "nn_img_indices_to_view = nn_performance_test.image_indices"
   ]
  },
  {
   "cell_type": "markdown",
   "metadata": {},
   "source": [
    "# look at examples of neural network classifications"
   ]
  },
  {
   "cell_type": "markdown",
   "metadata": {},
   "source": [
    "## true positives"
   ]
  },
  {
   "cell_type": "code",
   "execution_count": null,
   "metadata": {},
   "outputs": [],
   "source": [
    "performance_examples('TP', nn_img_indices_to_view)"
   ]
  },
  {
   "cell_type": "markdown",
   "metadata": {},
   "source": [
    "## false positives"
   ]
  },
  {
   "cell_type": "code",
   "execution_count": null,
   "metadata": {},
   "outputs": [],
   "source": [
    "performance_examples('FP', nn_img_indices_to_view)"
   ]
  },
  {
   "cell_type": "markdown",
   "metadata": {},
   "source": [
    "## false negatives"
   ]
  },
  {
   "cell_type": "code",
   "execution_count": null,
   "metadata": {},
   "outputs": [],
   "source": [
    "performance_examples('FN', nn_img_indices_to_view)"
   ]
  },
  {
   "cell_type": "markdown",
   "metadata": {},
   "source": [
    "# comparisons"
   ]
  },
  {
   "cell_type": "code",
   "execution_count": 11,
   "metadata": {},
   "outputs": [],
   "source": [
    "# list of fits to compare: \n",
    "final_fits = []\n",
    "final_fits.append(prc_performance.performance_measures)\n",
    "final_fits.append(prc_performance_test.performance_measures)\n",
    "final_fits.append(nn_performance.performance_measures)\n",
    "final_fits.append(nn_performance_test.performance_measures)"
   ]
  },
  {
   "cell_type": "code",
   "execution_count": 12,
   "metadata": {},
   "outputs": [
    {
     "data": {
      "image/png": "[encoded data removed]",
      "text/plain": [
       "<Figure size 1000x1000 with 1 Axes>"
      ]
     },
     "metadata": {},
     "output_type": "display_data"
    }
   ],
   "source": [
    "plt.figure(figsize=(10,10))\n",
    "\n",
    "for fit in final_fits:\n",
    "    if fit['set'] == 'train':\n",
    "        color = 'co'\n",
    "    else:\n",
    "        color = 'ro'\n",
    "    plt.plot(fit['FP'] / fit['Neg'], \n",
    "             fit['TP'] / fit['Pos'], color, markersize=12)\n",
    "    plt.text(fit['FP'] / fit['Neg'], \n",
    "             fit['TP'] / fit['Pos'], fit['desc'] + ': ' + fit['set'], fontsize=16)\n",
    "plt.axis([0, 1, 0, 1])\n",
    "# plt.title('ROC plot: test set; Canny')\n",
    "plt.title('ROC plot: test set; Corner Moravec')\n",
    "plt.xlabel('False positive rate')\n",
    "plt.ylabel('True positive rate')\n",
    "plt.show()\n"
   ]
  },
  {
   "cell_type": "markdown",
   "metadata": {},
   "source": [
    "# SUBMISSION\n",
    "\n",
    "### file paths and names:"
   ]
  },
  {
   "cell_type": "code",
   "execution_count": 13,
   "metadata": {},
   "outputs": [],
   "source": [
    "submission_ci_path = 'test_data_for_grading/test_cropped_images/' # file path for cropped images for training\n",
    "submission_l_file = 'test_data_for_grading/test_plane_labels.csv' # file path and file name for csv with labels"
   ]
  },
  {
   "cell_type": "code",
   "execution_count": 14,
   "metadata": {},
   "outputs": [
    {
     "name": "stdout",
     "output_type": "stream",
     "text": [
      "First few lines of image labels: \n",
      "                   img_name\n",
      "0  2016-08-02T13+50+24_430Z\n",
      "1  2016-08-02T14+12+37_390Z\n",
      "2  2016-08-03T12+32+21_790Z\n",
      "3  2016-08-03T13+19+28_320Z\n",
      "4  2016-08-05T15+24+58_670Z\n",
      "Size of image label dataFrame: \n",
      "(1523, 1)\n",
      "Shape of original feature representation: \n",
      "(1523, 60, 140)\n",
      "Shape of flat feature representation: \n",
      "(1523, 8400)\n",
      "Shape of X_test for submission:\n",
      "(1523, 8400)\n",
      "SUCCESS!\n",
      "Number of rows in the submission test set (should be 1,523): \n"
     ]
    }
   ],
   "source": [
    "X_test_data, X_test_submission = process_raw_data(submission_l_file, submission_ci_path, my_random_seed=63, test=True)\n",
    "print(\"Number of rows in the submission test set (should be 1,523): \")"
   ]
  },
  {
   "cell_type": "markdown",
   "metadata": {},
   "source": [
    "### IMPORTANT CHECK: make sure that the number of columns in your training data is the same as the number of columns in this test submission!"
   ]
  },
  {
   "cell_type": "code",
   "execution_count": 15,
   "metadata": {},
   "outputs": [
    {
     "name": "stdout",
     "output_type": "stream",
     "text": [
      "(5068, 8400)\n",
      "(1523, 8400)\n"
     ]
    }
   ],
   "source": [
    "print(data_train.shape)\n",
    "print(X_test_data.shape)"
   ]
  },
  {
   "cell_type": "markdown",
   "metadata": {},
   "source": [
    "Both the training set and submission test set have 525 columns. Success!\n",
    "525??? "
   ]
  },
  {
   "cell_type": "markdown",
   "metadata": {},
   "source": [
    "---\n",
    "\n",
    "Choose a *single* model for your submission. In this code, I am choosing the Perceptron model fit, which is in the prc object. But you should choose the model that is performing the best for you!"
   ]
  },
  {
   "cell_type": "markdown",
   "metadata": {},
   "source": [
    "Choosing Neural Network model based on the performance above!"
   ]
  },
  {
   "cell_type": "code",
   "execution_count": 17,
   "metadata": {},
   "outputs": [
    {
     "name": "stdout",
     "output_type": "stream",
     "text": [
      "0.015758371634931056\n"
     ]
    }
   ],
   "source": [
    "# concatenate predictions to the id\n",
    "X_test_submission[\"prediction\"] = nn.predict(X_test_data)\n",
    "# look at the proportion of positive predictions\n",
    "print(X_test_submission['prediction'].mean())"
   ]
  },
  {
   "cell_type": "markdown",
   "metadata": {},
   "source": [
    "This is the proportion of predictions that have predicted that there is an airplane in the image."
   ]
  },
  {
   "cell_type": "code",
   "execution_count": 18,
   "metadata": {},
   "outputs": [
    {
     "name": "stdout",
     "output_type": "stream",
     "text": [
      "(1523, 2)\n"
     ]
    }
   ],
   "source": [
    "print(X_test_submission.shape) # should be (1523, 2)"
   ]
  },
  {
   "cell_type": "code",
   "execution_count": 19,
   "metadata": {},
   "outputs": [],
   "source": [
    "# export submission file as pdf\n",
    "# CHANGE FILE PATH: \n",
    "X_test_submission.to_csv('airplane_submission.csv', index=False)"
   ]
  },
  {
   "cell_type": "code",
   "execution_count": null,
   "metadata": {},
   "outputs": [],
   "source": []
  }
 ],
 "metadata": {
  "kernelspec": {
   "display_name": "Python 3 (ipykernel)",
   "language": "python",
   "name": "python3"
  },
  "language_info": {
   "codemirror_mode": {
    "name": "ipython",
    "version": 3
   },
   "file_extension": ".py",
   "mimetype": "text/x-python",
   "name": "python",
   "nbconvert_exporter": "python",
   "pygments_lexer": "ipython3",
   "version": "3.9.13"
  }
 },
 "nbformat": 4,
 "nbformat_minor": 2
}
